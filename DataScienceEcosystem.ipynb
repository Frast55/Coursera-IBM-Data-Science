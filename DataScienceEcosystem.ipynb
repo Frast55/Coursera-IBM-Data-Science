{
 "cells": [
  {
   "cell_type": "markdown",
   "id": "e137795e-88bc-48ea-a98b-68f5c970ba1f",
   "metadata": {},
   "source": [
    "<h1>Data Science Tools and Ecosystem</h1>"
   ]
  },
  {
   "cell_type": "markdown",
   "id": "09934241-7997-4610-bc1a-0fe623760c02",
   "metadata": {},
   "source": [
    "In this notebook, Data Science Tools and Ecosystem are summarized."
   ]
  },
  {
   "cell_type": "markdown",
   "id": "25e58f09-dfb9-479a-9030-ef32174ae636",
   "metadata": {
    "tags": []
   },
   "source": [
    "<h2>Author:</h2>\n",
    "Aman Mohamed Illyas"
   ]
  },
  {
   "cell_type": "markdown",
   "id": "31928138-fc0e-4f1f-a2bd-c48124b264dd",
   "metadata": {
    "tags": []
   },
   "source": [
    "**Objectives:**\n",
    "<ul>\n",
    "    <li>List popular languages That Data Scientists use.</li>\n",
    "    <li>List commonly used libraries used by Data Scientists.</li>\n",
    "    <li>List Data science Tools in tabular format.</li>\n",
    "    <li>List few examples of evaluating arithmetic expressions in Python.</li>\n",
    "</ul>"
   ]
  },
  {
   "cell_type": "markdown",
   "id": "78493b62-32eb-48ad-acf0-1f255e2f7647",
   "metadata": {
    "tags": []
   },
   "source": [
    "<h5>Some of the popular languages that Data Scientists use are:</h5>\n",
    "<ol>\n",
    "    <li>Python</li>\n",
    "    <li>R</li>\n",
    "    <li>Julia</li>\n",
    "    <li>SQL</li>\n",
    "    <li>Scala</li>\n",
    "    <li>Java</li>\n",
    "    <li>Go</li>\n",
    "</ol>"
   ]
  },
  {
   "cell_type": "markdown",
   "id": "c9a49a7b-ab8e-4f47-bf98-fbf85dbe8087",
   "metadata": {},
   "source": [
    "<h5>Some of the commonly used libraries used by Data Scientists include:</h5>\n",
    "<ol>\n",
    "    <li>TensorFlow</li>\n",
    "    <li>NumPy</li>\n",
    "    <li>SciPy</li>\n",
    "    <li>Pandas</li>\n",
    "    <li>Matplotlib</li>\n",
    "    <li>Keras</li>\n",
    "    <li>PyTorch</li>\n",
    "    <li>SciKit-Learn</li>\n",
    "</ol>"
   ]
  },
  {
   "cell_type": "markdown",
   "id": "a53eb861-ff2d-4ff2-b007-926dd2621bae",
   "metadata": {},
   "source": [
    "|<h5>Data Science Tools</h5>|\n",
    "|-------|\n",
    "|RStudio|\n",
    "|Apache Spark|\n",
    "|Apache Hadoop|"
   ]
  },
  {
   "cell_type": "markdown",
   "id": "1f1abc8a-2f04-499f-b161-6f7e085d6732",
   "metadata": {},
   "source": [
    "<h3>Below are a few examples of evaluating arithmetic expressions in Python:</h3>"
   ]
  },
  {
   "cell_type": "markdown",
   "id": "b9b7d8d0-c84c-46a8-9122-2c09fd73c35f",
   "metadata": {},
   "source": [
    "This a simple arithmetic expression to multiply then add integers,"
   ]
  },
  {
   "cell_type": "code",
   "execution_count": 3,
   "id": "5591b627-d538-4e40-8acd-03d87845fd44",
   "metadata": {},
   "outputs": [
    {
     "data": {
      "text/plain": [
       "17"
      ]
     },
     "execution_count": 3,
     "metadata": {},
     "output_type": "execute_result"
    }
   ],
   "source": [
    "(3*4)+5"
   ]
  },
  {
   "cell_type": "markdown",
   "id": "f8872401-ab62-4b1f-a11a-6dcd50b9c0e3",
   "metadata": {},
   "source": [
    "This will convert 200 minutes to hours by dividing by 60,"
   ]
  },
  {
   "cell_type": "code",
   "execution_count": 5,
   "id": "abcaf5b8-ccfd-4041-84ad-9566f54bf2da",
   "metadata": {},
   "outputs": [
    {
     "data": {
      "text/plain": [
       "3.3333333333333335"
      ]
     },
     "execution_count": 5,
     "metadata": {},
     "output_type": "execute_result"
    }
   ],
   "source": [
    "200/60"
   ]
  }
 ],
 "metadata": {
  "kernelspec": {
   "display_name": "Python",
   "language": "python",
   "name": "conda-env-python-py"
  },
  "language_info": {
   "codemirror_mode": {
    "name": "ipython",
    "version": 3
   },
   "file_extension": ".py",
   "mimetype": "text/x-python",
   "name": "python",
   "nbconvert_exporter": "python",
   "pygments_lexer": "ipython3",
   "version": "3.7.12"
  }
 },
 "nbformat": 4,
 "nbformat_minor": 5
}
